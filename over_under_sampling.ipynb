{
 "cells": [
  {
   "cell_type": "code",
   "execution_count": 14,
   "metadata": {},
   "outputs": [],
   "source": [
    "# Se importan las librerías\n",
    "import pandas as pd\n",
    "\n",
    "from collections import Counter\n",
    "from imblearn.over_sampling import RandomOverSampler\n",
    "from imblearn.under_sampling import RandomUnderSampler\n",
    "from sklearn.utils import resample"
   ]
  },
  {
   "cell_type": "code",
   "execution_count": 15,
   "metadata": {},
   "outputs": [
    {
     "data": {
      "text/plain": [
       "on_thyroxine                  0.00\n",
       "query_on_thyroxine            0.00\n",
       "on_antithyroid_medication     0.00\n",
       "thyroid_surgery               0.00\n",
       "query_hypothyroid             0.00\n",
       "query_hyperthyroid            0.00\n",
       "pregnant                      0.00\n",
       "sick                          0.00\n",
       "tumor                         0.00\n",
       "lithium                       0.00\n",
       "goitre                        0.00\n",
       "TSH_measured                  0.00\n",
       "T3_measured                   1.00\n",
       "TT4_measured                  1.00\n",
       "T4U_measured                  1.00\n",
       "FTI_measured                  1.00\n",
       "age                          72.00\n",
       "sex                           1.00\n",
       "TSH                           0.80\n",
       "T3                            1.00\n",
       "TT4                          83.00\n",
       "T4U                           0.95\n",
       "FTI                          87.00\n",
       "classes                       1.00\n",
       "Name: 0, dtype: float64"
      ]
     },
     "execution_count": 15,
     "metadata": {},
     "output_type": "execute_result"
    }
   ],
   "source": [
    "# Se cargan los datos\n",
    "data = pd.read_csv('full_dataset.csv')\n",
    "data.iloc[0]"
   ]
  },
  {
   "cell_type": "code",
   "execution_count": 16,
   "metadata": {},
   "outputs": [
    {
     "data": {
      "text/plain": [
       "0    2870\n",
       "1     293\n",
       "Name: classes, dtype: int64"
      ]
     },
     "execution_count": 16,
     "metadata": {},
     "output_type": "execute_result"
    }
   ],
   "source": [
    "# Se hace un conteo de muestras por clases\n",
    "data.classes.value_counts()"
   ]
  },
  {
   "cell_type": "code",
   "execution_count": 17,
   "metadata": {},
   "outputs": [],
   "source": [
    "# Se separan los datos en conjuntos por clase\n",
    "major_class = data[data.classes == 0]\n",
    "minor_class = data[data.classes == 1]"
   ]
  },
  {
   "cell_type": "code",
   "execution_count": 18,
   "metadata": {},
   "outputs": [],
   "source": [
    "# Se hace un sobremuestreo sobre la clase minoritaria\n",
    "minor_class_upsampled = resample(minor_class, replace=True, n_samples=350, random_state=42)"
   ]
  },
  {
   "cell_type": "code",
   "execution_count": 19,
   "metadata": {},
   "outputs": [],
   "source": [
    "# Se unen los conjuntos en un nuevo conjunto único de clases\n",
    "data_new = pd.concat([major_class, minor_class_upsampled])"
   ]
  },
  {
   "cell_type": "code",
   "execution_count": 20,
   "metadata": {},
   "outputs": [
    {
     "data": {
      "text/html": [
       "<div>\n",
       "<style scoped>\n",
       "    .dataframe tbody tr th:only-of-type {\n",
       "        vertical-align: middle;\n",
       "    }\n",
       "\n",
       "    .dataframe tbody tr th {\n",
       "        vertical-align: top;\n",
       "    }\n",
       "\n",
       "    .dataframe thead th {\n",
       "        text-align: right;\n",
       "    }\n",
       "</style>\n",
       "<table border=\"1\" class=\"dataframe\">\n",
       "  <thead>\n",
       "    <tr style=\"text-align: right;\">\n",
       "      <th></th>\n",
       "      <th>on_thyroxine</th>\n",
       "      <th>query_on_thyroxine</th>\n",
       "      <th>on_antithyroid_medication</th>\n",
       "      <th>thyroid_surgery</th>\n",
       "      <th>query_hypothyroid</th>\n",
       "      <th>query_hyperthyroid</th>\n",
       "      <th>pregnant</th>\n",
       "      <th>sick</th>\n",
       "      <th>tumor</th>\n",
       "      <th>lithium</th>\n",
       "      <th>...</th>\n",
       "      <th>TT4_measured</th>\n",
       "      <th>T4U_measured</th>\n",
       "      <th>FTI_measured</th>\n",
       "      <th>age</th>\n",
       "      <th>sex</th>\n",
       "      <th>TSH</th>\n",
       "      <th>T3</th>\n",
       "      <th>TT4</th>\n",
       "      <th>T4U</th>\n",
       "      <th>FTI</th>\n",
       "    </tr>\n",
       "  </thead>\n",
       "  <tbody>\n",
       "    <tr>\n",
       "      <th>293</th>\n",
       "      <td>0</td>\n",
       "      <td>0</td>\n",
       "      <td>0</td>\n",
       "      <td>0</td>\n",
       "      <td>0</td>\n",
       "      <td>0</td>\n",
       "      <td>0</td>\n",
       "      <td>0</td>\n",
       "      <td>0</td>\n",
       "      <td>0</td>\n",
       "      <td>...</td>\n",
       "      <td>1</td>\n",
       "      <td>1</td>\n",
       "      <td>1</td>\n",
       "      <td>20</td>\n",
       "      <td>0</td>\n",
       "      <td>0.5</td>\n",
       "      <td>1.8</td>\n",
       "      <td>68.0</td>\n",
       "      <td>0.99</td>\n",
       "      <td>68.0</td>\n",
       "    </tr>\n",
       "    <tr>\n",
       "      <th>294</th>\n",
       "      <td>0</td>\n",
       "      <td>0</td>\n",
       "      <td>0</td>\n",
       "      <td>0</td>\n",
       "      <td>0</td>\n",
       "      <td>0</td>\n",
       "      <td>0</td>\n",
       "      <td>0</td>\n",
       "      <td>0</td>\n",
       "      <td>0</td>\n",
       "      <td>...</td>\n",
       "      <td>1</td>\n",
       "      <td>1</td>\n",
       "      <td>1</td>\n",
       "      <td>29</td>\n",
       "      <td>0</td>\n",
       "      <td>1.2</td>\n",
       "      <td>2.5</td>\n",
       "      <td>83.0</td>\n",
       "      <td>0.93</td>\n",
       "      <td>89.0</td>\n",
       "    </tr>\n",
       "    <tr>\n",
       "      <th>295</th>\n",
       "      <td>0</td>\n",
       "      <td>0</td>\n",
       "      <td>0</td>\n",
       "      <td>0</td>\n",
       "      <td>0</td>\n",
       "      <td>1</td>\n",
       "      <td>0</td>\n",
       "      <td>0</td>\n",
       "      <td>0</td>\n",
       "      <td>0</td>\n",
       "      <td>...</td>\n",
       "      <td>1</td>\n",
       "      <td>1</td>\n",
       "      <td>1</td>\n",
       "      <td>66</td>\n",
       "      <td>0</td>\n",
       "      <td>3.1</td>\n",
       "      <td>1.7</td>\n",
       "      <td>76.0</td>\n",
       "      <td>0.83</td>\n",
       "      <td>92.0</td>\n",
       "    </tr>\n",
       "    <tr>\n",
       "      <th>296</th>\n",
       "      <td>0</td>\n",
       "      <td>0</td>\n",
       "      <td>0</td>\n",
       "      <td>0</td>\n",
       "      <td>0</td>\n",
       "      <td>0</td>\n",
       "      <td>0</td>\n",
       "      <td>0</td>\n",
       "      <td>0</td>\n",
       "      <td>0</td>\n",
       "      <td>...</td>\n",
       "      <td>1</td>\n",
       "      <td>1</td>\n",
       "      <td>1</td>\n",
       "      <td>62</td>\n",
       "      <td>1</td>\n",
       "      <td>0.4</td>\n",
       "      <td>2.2</td>\n",
       "      <td>103.0</td>\n",
       "      <td>0.99</td>\n",
       "      <td>104.0</td>\n",
       "    </tr>\n",
       "    <tr>\n",
       "      <th>297</th>\n",
       "      <td>0</td>\n",
       "      <td>0</td>\n",
       "      <td>0</td>\n",
       "      <td>0</td>\n",
       "      <td>0</td>\n",
       "      <td>0</td>\n",
       "      <td>0</td>\n",
       "      <td>0</td>\n",
       "      <td>0</td>\n",
       "      <td>0</td>\n",
       "      <td>...</td>\n",
       "      <td>1</td>\n",
       "      <td>1</td>\n",
       "      <td>1</td>\n",
       "      <td>72</td>\n",
       "      <td>0</td>\n",
       "      <td>0.0</td>\n",
       "      <td>1.5</td>\n",
       "      <td>66.0</td>\n",
       "      <td>0.97</td>\n",
       "      <td>69.0</td>\n",
       "    </tr>\n",
       "  </tbody>\n",
       "</table>\n",
       "<p>5 rows × 23 columns</p>\n",
       "</div>"
      ],
      "text/plain": [
       "     on_thyroxine  query_on_thyroxine  on_antithyroid_medication  \\\n",
       "293             0                   0                          0   \n",
       "294             0                   0                          0   \n",
       "295             0                   0                          0   \n",
       "296             0                   0                          0   \n",
       "297             0                   0                          0   \n",
       "\n",
       "     thyroid_surgery  query_hypothyroid  query_hyperthyroid  pregnant  sick  \\\n",
       "293                0                  0                   0         0     0   \n",
       "294                0                  0                   0         0     0   \n",
       "295                0                  0                   1         0     0   \n",
       "296                0                  0                   0         0     0   \n",
       "297                0                  0                   0         0     0   \n",
       "\n",
       "     tumor  lithium  ...    TT4_measured  T4U_measured  FTI_measured  age  \\\n",
       "293      0        0  ...               1             1             1   20   \n",
       "294      0        0  ...               1             1             1   29   \n",
       "295      0        0  ...               1             1             1   66   \n",
       "296      0        0  ...               1             1             1   62   \n",
       "297      0        0  ...               1             1             1   72   \n",
       "\n",
       "     sex  TSH   T3    TT4   T4U    FTI  \n",
       "293    0  0.5  1.8   68.0  0.99   68.0  \n",
       "294    0  1.2  2.5   83.0  0.93   89.0  \n",
       "295    0  3.1  1.7   76.0  0.83   92.0  \n",
       "296    1  0.4  2.2  103.0  0.99  104.0  \n",
       "297    0  0.0  1.5   66.0  0.97   69.0  \n",
       "\n",
       "[5 rows x 23 columns]"
      ]
     },
     "execution_count": 20,
     "metadata": {},
     "output_type": "execute_result"
    }
   ],
   "source": [
    "# Se separa conjunto de características\n",
    "features = data_new.iloc[:, 0:-1]\n",
    "features.head()"
   ]
  },
  {
   "cell_type": "code",
   "execution_count": 21,
   "metadata": {},
   "outputs": [
    {
     "data": {
      "text/plain": [
       "293    0\n",
       "294    0\n",
       "295    0\n",
       "296    0\n",
       "297    0\n",
       "Name: classes, dtype: int64"
      ]
     },
     "execution_count": 21,
     "metadata": {},
     "output_type": "execute_result"
    }
   ],
   "source": [
    "# Se separa conjunto de etiquetas\n",
    "target = data_new.iloc[:, -1]\n",
    "target.head()"
   ]
  },
  {
   "cell_type": "code",
   "execution_count": 22,
   "metadata": {},
   "outputs": [
    {
     "name": "stdout",
     "output_type": "stream",
     "text": [
      "Resampled dataset shape Counter({0: 350, 1: 350})\n"
     ]
    }
   ],
   "source": [
    "# Se hace sub muestreo de conjunto mayoritario\n",
    "rus = RandomUnderSampler(random_state=0)\n",
    "features_resampled, target_resampled = rus.fit_resample(features, target)\n",
    "print('Resampled dataset shape %s' % Counter(target_resampled))"
   ]
  },
  {
   "cell_type": "code",
   "execution_count": null,
   "metadata": {},
   "outputs": [],
   "source": []
  }
 ],
 "metadata": {
  "kernelspec": {
   "display_name": "Python 3",
   "language": "python",
   "name": "python3"
  },
  "language_info": {
   "codemirror_mode": {
    "name": "ipython",
    "version": 3
   },
   "file_extension": ".py",
   "mimetype": "text/x-python",
   "name": "python",
   "nbconvert_exporter": "python",
   "pygments_lexer": "ipython3",
   "version": "3.7.1"
  }
 },
 "nbformat": 4,
 "nbformat_minor": 2
}
